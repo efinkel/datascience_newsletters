{
 "cells": [
  {
   "cell_type": "code",
   "execution_count": 144,
   "metadata": {},
   "outputs": [],
   "source": [
    "from newsletter_crawler import newsletter_crawler\n",
    "import requests\n",
    "from urllib.request import urlopen\n",
    "import requests\n",
    "import bs4\n",
    "from bs4 import BeautifulSoup\n",
    "import pandas as pd\n",
    "import re\n",
    "from datetime import datetime\n",
    "import random\n",
    "from tqdm import tnrange, tqdm_notebook\n",
    "import numpy as np\n",
    "import dateutil.parser as dparser\n",
    "from datetime import datetime\n",
    "import time\n",
    "\n",
    "%reload_ext autoreload\n",
    "%autoreload 2"
   ]
  },
  {
   "cell_type": "code",
   "execution_count": 155,
   "metadata": {},
   "outputs": [],
   "source": [
    "data_elixir_df = pd.read_csv('dataelixir.csv')\n",
    "# data_science_weekly_df = pd.read_csv('data_Science_weekly_df.csv')"
   ]
  },
  {
   "cell_type": "code",
   "execution_count": 156,
   "metadata": {},
   "outputs": [],
   "source": [
    "newsletter_df = pd.concat([data_elixir_df, data_science_weekly_df], axis = 0, sort = True).reset_index(drop = True)"
   ]
  },
  {
   "cell_type": "code",
   "execution_count": 157,
   "metadata": {},
   "outputs": [
    {
     "data": {
      "text/html": [
       "<div>\n",
       "<style scoped>\n",
       "    .dataframe tbody tr th:only-of-type {\n",
       "        vertical-align: middle;\n",
       "    }\n",
       "\n",
       "    .dataframe tbody tr th {\n",
       "        vertical-align: top;\n",
       "    }\n",
       "\n",
       "    .dataframe thead th {\n",
       "        text-align: right;\n",
       "    }\n",
       "</style>\n",
       "<table border=\"1\" class=\"dataframe\">\n",
       "  <thead>\n",
       "    <tr style=\"text-align: right;\">\n",
       "      <th></th>\n",
       "      <th>category_title</th>\n",
       "      <th>date</th>\n",
       "      <th>issue_num</th>\n",
       "      <th>item_summary</th>\n",
       "      <th>item_title</th>\n",
       "      <th>link</th>\n",
       "      <th>newsletter</th>\n",
       "    </tr>\n",
       "  </thead>\n",
       "  <tbody>\n",
       "    <tr>\n",
       "      <th>0</th>\n",
       "      <td>In the News</td>\n",
       "      <td>Sep9th2014</td>\n",
       "      <td>Issue1</td>\n",
       "      <td>Gordon Rios has been instrumental in building ...</td>\n",
       "      <td>What I Learned As Pandoras First Data Scientist</td>\n",
       "      <td>http://firstround.com/review/What-I-Learned-As...</td>\n",
       "      <td>dataelixir</td>\n",
       "    </tr>\n",
       "    <tr>\n",
       "      <th>1</th>\n",
       "      <td>In the News</td>\n",
       "      <td>Sep9th2014</td>\n",
       "      <td>Issue1</td>\n",
       "      <td>The title says it all.  Heres an indepth overv...</td>\n",
       "      <td>Why Big Data Is a Big Deal</td>\n",
       "      <td>http://firstround.com/review/What-I-Learned-As...</td>\n",
       "      <td>dataelixir</td>\n",
       "    </tr>\n",
       "    <tr>\n",
       "      <th>2</th>\n",
       "      <td>In the News</td>\n",
       "      <td>Sep9th2014</td>\n",
       "      <td>Issue1</td>\n",
       "      <td>A startup called Algorithmia has a new twist o...</td>\n",
       "      <td>A Dating Site for Algorithms</td>\n",
       "      <td>http://firstround.com/review/What-I-Learned-As...</td>\n",
       "      <td>dataelixir</td>\n",
       "    </tr>\n",
       "    <tr>\n",
       "      <th>3</th>\n",
       "      <td>In the News</td>\n",
       "      <td>Sep9th2014</td>\n",
       "      <td>Issue1</td>\n",
       "      <td>Is data the future of sports?  These guys sure...</td>\n",
       "      <td>Extreme Moneyball The Houston Astros Go All In...</td>\n",
       "      <td>http://firstround.com/review/What-I-Learned-As...</td>\n",
       "      <td>dataelixir</td>\n",
       "    </tr>\n",
       "    <tr>\n",
       "      <th>4</th>\n",
       "      <td>Tools and Techniques</td>\n",
       "      <td>Sep9th2014</td>\n",
       "      <td>Issue1</td>\n",
       "      <td>Is it art?  Or is it science?  Andrew Hanson e...</td>\n",
       "      <td>Putting Science First  Distinguishing Visualiz...</td>\n",
       "      <td>http://www.computer.org/cms/Computer.org/Compu...</td>\n",
       "      <td>dataelixir</td>\n",
       "    </tr>\n",
       "  </tbody>\n",
       "</table>\n",
       "</div>"
      ],
      "text/plain": [
       "           category_title        date issue_num  \\\n",
       "0            In the News   Sep9th2014    Issue1   \n",
       "1            In the News   Sep9th2014    Issue1   \n",
       "2            In the News   Sep9th2014    Issue1   \n",
       "3            In the News   Sep9th2014    Issue1   \n",
       "4   Tools and Techniques   Sep9th2014    Issue1   \n",
       "\n",
       "                                        item_summary  \\\n",
       "0  Gordon Rios has been instrumental in building ...   \n",
       "1  The title says it all.  Heres an indepth overv...   \n",
       "2  A startup called Algorithmia has a new twist o...   \n",
       "3  Is data the future of sports?  These guys sure...   \n",
       "4  Is it art?  Or is it science?  Andrew Hanson e...   \n",
       "\n",
       "                                          item_title  \\\n",
       "0    What I Learned As Pandoras First Data Scientist   \n",
       "1                         Why Big Data Is a Big Deal   \n",
       "2                       A Dating Site for Algorithms   \n",
       "3  Extreme Moneyball The Houston Astros Go All In...   \n",
       "4  Putting Science First  Distinguishing Visualiz...   \n",
       "\n",
       "                                                link  newsletter  \n",
       "0  http://firstround.com/review/What-I-Learned-As...  dataelixir  \n",
       "1  http://firstround.com/review/What-I-Learned-As...  dataelixir  \n",
       "2  http://firstround.com/review/What-I-Learned-As...  dataelixir  \n",
       "3  http://firstround.com/review/What-I-Learned-As...  dataelixir  \n",
       "4  http://www.computer.org/cms/Computer.org/Compu...  dataelixir  "
      ]
     },
     "execution_count": 157,
     "metadata": {},
     "output_type": "execute_result"
    }
   ],
   "source": [
    "newsletter_df.head()"
   ]
  },
  {
   "cell_type": "code",
   "execution_count": 158,
   "metadata": {},
   "outputs": [
    {
     "name": "stdout",
     "output_type": "stream",
     "text": [
      "<class 'pandas.core.frame.DataFrame'>\n",
      "RangeIndex: 6514 entries, 0 to 6513\n",
      "Data columns (total 7 columns):\n",
      "category_title    6511 non-null object\n",
      "date              6508 non-null object\n",
      "issue_num         6508 non-null object\n",
      "item_summary      6333 non-null object\n",
      "item_title        6317 non-null object\n",
      "link              6285 non-null object\n",
      "newsletter        6514 non-null object\n",
      "dtypes: object(7)\n",
      "memory usage: 356.3+ KB\n"
     ]
    }
   ],
   "source": [
    "newsletter_df.info()"
   ]
  },
  {
   "cell_type": "code",
   "execution_count": 159,
   "metadata": {},
   "outputs": [
    {
     "data": {
      "text/html": [
       "<div>\n",
       "<style scoped>\n",
       "    .dataframe tbody tr th:only-of-type {\n",
       "        vertical-align: middle;\n",
       "    }\n",
       "\n",
       "    .dataframe tbody tr th {\n",
       "        vertical-align: top;\n",
       "    }\n",
       "\n",
       "    .dataframe thead th {\n",
       "        text-align: right;\n",
       "    }\n",
       "</style>\n",
       "<table border=\"1\" class=\"dataframe\">\n",
       "  <thead>\n",
       "    <tr style=\"text-align: right;\">\n",
       "      <th></th>\n",
       "      <th>category_title</th>\n",
       "      <th>date</th>\n",
       "      <th>issue_num</th>\n",
       "      <th>item_summary</th>\n",
       "      <th>item_title</th>\n",
       "      <th>link</th>\n",
       "      <th>newsletter</th>\n",
       "    </tr>\n",
       "  </thead>\n",
       "  <tbody>\n",
       "    <tr>\n",
       "      <th>3830</th>\n",
       "      <td>A Message from this week's Sponsor:</td>\n",
       "      <td>NaN</td>\n",
       "      <td>NaN</td>\n",
       "      <td>NaN</td>\n",
       "      <td>NaN</td>\n",
       "      <td>NaN</td>\n",
       "      <td>datascienceweekly</td>\n",
       "    </tr>\n",
       "    <tr>\n",
       "      <th>3849</th>\n",
       "      <td>A Message from this week's Sponsor:</td>\n",
       "      <td>NaN</td>\n",
       "      <td>NaN</td>\n",
       "      <td>NaN</td>\n",
       "      <td>NaN</td>\n",
       "      <td>NaN</td>\n",
       "      <td>datascienceweekly</td>\n",
       "    </tr>\n",
       "    <tr>\n",
       "      <th>3868</th>\n",
       "      <td>A Message from this week's Sponsor:</td>\n",
       "      <td>NaN</td>\n",
       "      <td>NaN</td>\n",
       "      <td>NaN</td>\n",
       "      <td>NaN</td>\n",
       "      <td>NaN</td>\n",
       "      <td>datascienceweekly</td>\n",
       "    </tr>\n",
       "    <tr>\n",
       "      <th>3905</th>\n",
       "      <td>A Message from this week's Sponsor:</td>\n",
       "      <td>NaN</td>\n",
       "      <td>NaN</td>\n",
       "      <td>NaN</td>\n",
       "      <td>NaN</td>\n",
       "      <td>NaN</td>\n",
       "      <td>datascienceweekly</td>\n",
       "    </tr>\n",
       "    <tr>\n",
       "      <th>3924</th>\n",
       "      <td>A Message from this week's Sponsor:</td>\n",
       "      <td>NaN</td>\n",
       "      <td>NaN</td>\n",
       "      <td>NaN</td>\n",
       "      <td>NaN</td>\n",
       "      <td>NaN</td>\n",
       "      <td>datascienceweekly</td>\n",
       "    </tr>\n",
       "    <tr>\n",
       "      <th>3943</th>\n",
       "      <td>A Message from this week's Sponsor:</td>\n",
       "      <td>NaN</td>\n",
       "      <td>NaN</td>\n",
       "      <td>NaN</td>\n",
       "      <td>NaN</td>\n",
       "      <td>NaN</td>\n",
       "      <td>datascienceweekly</td>\n",
       "    </tr>\n",
       "  </tbody>\n",
       "</table>\n",
       "</div>"
      ],
      "text/plain": [
       "                           category_title date issue_num item_summary  \\\n",
       "3830  A Message from this week's Sponsor:  NaN       NaN          NaN   \n",
       "3849  A Message from this week's Sponsor:  NaN       NaN          NaN   \n",
       "3868  A Message from this week's Sponsor:  NaN       NaN          NaN   \n",
       "3905  A Message from this week's Sponsor:  NaN       NaN          NaN   \n",
       "3924  A Message from this week's Sponsor:  NaN       NaN          NaN   \n",
       "3943  A Message from this week's Sponsor:  NaN       NaN          NaN   \n",
       "\n",
       "     item_title link         newsletter  \n",
       "3830        NaN  NaN  datascienceweekly  \n",
       "3849        NaN  NaN  datascienceweekly  \n",
       "3868        NaN  NaN  datascienceweekly  \n",
       "3905        NaN  NaN  datascienceweekly  \n",
       "3924        NaN  NaN  datascienceweekly  \n",
       "3943        NaN  NaN  datascienceweekly  "
      ]
     },
     "execution_count": 159,
     "metadata": {},
     "output_type": "execute_result"
    }
   ],
   "source": [
    "newsletter_df[newsletter_df['date'].isnull()]"
   ]
  },
  {
   "cell_type": "code",
   "execution_count": 160,
   "metadata": {},
   "outputs": [
    {
     "data": {
      "text/html": [
       "<div>\n",
       "<style scoped>\n",
       "    .dataframe tbody tr th:only-of-type {\n",
       "        vertical-align: middle;\n",
       "    }\n",
       "\n",
       "    .dataframe tbody tr th {\n",
       "        vertical-align: top;\n",
       "    }\n",
       "\n",
       "    .dataframe thead th {\n",
       "        text-align: right;\n",
       "    }\n",
       "</style>\n",
       "<table border=\"1\" class=\"dataframe\">\n",
       "  <thead>\n",
       "    <tr style=\"text-align: right;\">\n",
       "      <th></th>\n",
       "      <th>category_title</th>\n",
       "      <th>date</th>\n",
       "      <th>issue_num</th>\n",
       "      <th>item_summary</th>\n",
       "      <th>item_title</th>\n",
       "      <th>link</th>\n",
       "      <th>newsletter</th>\n",
       "    </tr>\n",
       "  </thead>\n",
       "  <tbody>\n",
       "    <tr>\n",
       "      <th>3662</th>\n",
       "      <td>NaN</td>\n",
       "      <td>June182015</td>\n",
       "      <td>Issue82</td>\n",
       "      <td>Rat Brain Robot\\r\\r\\r\\n\\tThis robot is control...</td>\n",
       "      <td>Rat Brain Robot</td>\n",
       "      <td>https://www.youtube.com/watch?v=1QPiF4-iu6g</td>\n",
       "      <td>datascienceweekly</td>\n",
       "    </tr>\n",
       "    <tr>\n",
       "      <th>5465</th>\n",
       "      <td>NaN</td>\n",
       "      <td>June12017</td>\n",
       "      <td>Issue184</td>\n",
       "      <td>NaN</td>\n",
       "      <td>Director, Production Science  Algorithms</td>\n",
       "      <td>https://jobs.netflix.com/jobs/864546</td>\n",
       "      <td>datascienceweekly</td>\n",
       "    </tr>\n",
       "    <tr>\n",
       "      <th>5483</th>\n",
       "      <td>NaN</td>\n",
       "      <td>June82017</td>\n",
       "      <td>Issue185</td>\n",
       "      <td>NaN</td>\n",
       "      <td>Director, Production Science  Algorithms</td>\n",
       "      <td>https://jobs.netflix.com/jobs/864546</td>\n",
       "      <td>datascienceweekly</td>\n",
       "    </tr>\n",
       "  </tbody>\n",
       "</table>\n",
       "</div>"
      ],
      "text/plain": [
       "     category_title        date issue_num  \\\n",
       "3662            NaN  June182015   Issue82   \n",
       "5465            NaN   June12017  Issue184   \n",
       "5483            NaN   June82017  Issue185   \n",
       "\n",
       "                                           item_summary  \\\n",
       "3662  Rat Brain Robot\\r\\r\\r\\n\\tThis robot is control...   \n",
       "5465                                                NaN   \n",
       "5483                                                NaN   \n",
       "\n",
       "                                    item_title  \\\n",
       "3662                           Rat Brain Robot   \n",
       "5465  Director, Production Science  Algorithms   \n",
       "5483  Director, Production Science  Algorithms   \n",
       "\n",
       "                                             link         newsletter  \n",
       "3662  https://www.youtube.com/watch?v=1QPiF4-iu6g  datascienceweekly  \n",
       "5465         https://jobs.netflix.com/jobs/864546  datascienceweekly  \n",
       "5483         https://jobs.netflix.com/jobs/864546  datascienceweekly  "
      ]
     },
     "execution_count": 160,
     "metadata": {},
     "output_type": "execute_result"
    }
   ],
   "source": [
    "newsletter_df = newsletter_df[~newsletter_df['date'].isnull()]\n",
    "newsletter_df[newsletter_df['category_title'].isnull()]"
   ]
  },
  {
   "cell_type": "code",
   "execution_count": 161,
   "metadata": {},
   "outputs": [],
   "source": [
    "nan_cats_inds = newsletter_df[newsletter_df['category_title'].isnull()].index\n",
    "remove_inds = nan_cats_inds[0]\n",
    "newsletter_df = newsletter_df.drop(remove_inds).reset_index(drop = True)"
   ]
  },
  {
   "cell_type": "code",
   "execution_count": 162,
   "metadata": {},
   "outputs": [
    {
     "data": {
      "text/plain": [
       "array([' In the News ', ' Tools and Techniques ', ' Resources ',\n",
       "       ' Data Viz ', ' About ', ' Sponsored Link ', ' Archive Pick ',\n",
       "       ' Inspiration ', ' Career ', ' Upcoming Conferences ',\n",
       "       ' Byte Sized ', ' Projects ', ' Applications ', ' Startups ',\n",
       "       ' Podcasts ', ' Challenges ', ' Deep Learning ',\n",
       "       ' In Case You Missed It ', ' Profiles ', ' Datasets ', ' Blogs ',\n",
       "       ' Insight ', ' Jobs  Careers ', 'Featured This Week',\n",
       "       'Data Science Articles & Videos', 'Jobs', 'Editor Picks',\n",
       "       'Training', 'Training & Resources', 'Books',\n",
       "       \"A Message from this week's Sponsor\", 'Bonus Item!',\n",
       "       \"O'Reilly Media\", 'Continuum Analytics',\n",
       "       \"A Message from this week's Sponsor:\", 'HipChat',\n",
       "       \"A Message from this week's Sponsor:Yhat\",\n",
       "       \"A Message from this week's Sponsor:Dataquest\",\n",
       "       \"A Message from this week's Sponsor:Springboard\",\n",
       "       \"A Message from this week's Sponsor:DataScience.com\",\n",
       "       'Quick Question For You: Do you want a Data Science job?\\r\"No\": Scroll on down to the regular newsletter!\"Yes\": Great news! After helping hundred of readers like you get Data Science jobs, we\\'ve distilled all the real-world-tested advice into a self-directed course that guides you in constructing your own highly personalized plan for what you need to learn and what you can safely ignore - saving you time, effort, and worry.\\rThe course is broken down into three guides:Data Science Getting Started Guide.\\xa0This guide shows you how to figure out the knowledge gaps that MUST be closed in order for you to become a data scientist quickly and effectively (as well as the ones you can ignore)Data Science Project Portfolio Guide. This guide teaches you how to start, structure, and develop your data science portfolio with the right goals and direction so that you are a hiring manager\\'s dream candidateData Science Resume Guide.\\xa0This guide shows how to make your resume promote your best parts, what to leave out, how to tailor it to each job you want, as well as how to make your cover letter so good it can\\'t be ignored!For more details about each specific guide, and to see if it can help you as much as it\\'s helped others, click here to learn more.Cheers, Hannah & Sebastian.  Now on to this week\\'s newsletter!...-----------------------------------------------------------\\rEditor Picks',\n",
       "       nan], dtype=object)"
      ]
     },
     "execution_count": 162,
     "metadata": {},
     "output_type": "execute_result"
    }
   ],
   "source": [
    "newsletter_df['category_title'].unique()"
   ]
  },
  {
   "cell_type": "code",
   "execution_count": 166,
   "metadata": {},
   "outputs": [
    {
     "ename": "ValueError",
     "evalue": "cannot index with vector containing NA / NaN values",
     "output_type": "error",
     "traceback": [
      "\u001b[1;31m---------------------------------------------------------------------------\u001b[0m",
      "\u001b[1;31mValueError\u001b[0m                                Traceback (most recent call last)",
      "\u001b[1;32m<ipython-input-166-b1e284af6851>\u001b[0m in \u001b[0;36m<module>\u001b[1;34m()\u001b[0m\n\u001b[0;32m      2\u001b[0m \u001b[0mnewsletter_df\u001b[0m\u001b[1;33m.\u001b[0m\u001b[0mloc\u001b[0m\u001b[1;33m[\u001b[0m\u001b[0mnan_cats_inds\u001b[0m\u001b[1;33m[\u001b[0m\u001b[1;36m1\u001b[0m\u001b[1;33m:\u001b[0m\u001b[1;33m]\u001b[0m\u001b[1;33m,\u001b[0m \u001b[1;33m[\u001b[0m\u001b[1;34m'category_title'\u001b[0m\u001b[1;33m]\u001b[0m\u001b[1;33m]\u001b[0m \u001b[1;33m=\u001b[0m \u001b[1;34m'Jobs'\u001b[0m\u001b[1;33m\u001b[0m\u001b[0m\n\u001b[0;32m      3\u001b[0m \u001b[0mnewsletter_df\u001b[0m \u001b[1;33m=\u001b[0m \u001b[0mnewsletter_df\u001b[0m\u001b[1;33m[\u001b[0m\u001b[1;33m~\u001b[0m\u001b[1;33m(\u001b[0m\u001b[0mnewsletter_df\u001b[0m\u001b[1;33m[\u001b[0m\u001b[1;34m'category_title'\u001b[0m\u001b[1;33m]\u001b[0m\u001b[1;33m.\u001b[0m\u001b[0mstr\u001b[0m\u001b[1;33m.\u001b[0m\u001b[0mlen\u001b[0m\u001b[1;33m(\u001b[0m\u001b[1;33m)\u001b[0m\u001b[1;33m>\u001b[0m\u001b[1;36m200\u001b[0m\u001b[1;33m)\u001b[0m\u001b[1;33m]\u001b[0m\u001b[1;33m.\u001b[0m\u001b[0mreset_index\u001b[0m\u001b[1;33m(\u001b[0m\u001b[0mdrop\u001b[0m\u001b[1;33m=\u001b[0m\u001b[1;32mTrue\u001b[0m\u001b[1;33m)\u001b[0m\u001b[1;33m\u001b[0m\u001b[0m\n\u001b[1;32m----> 4\u001b[1;33m \u001b[0mnewsletter_df\u001b[0m\u001b[1;33m.\u001b[0m\u001b[0mloc\u001b[0m\u001b[1;33m[\u001b[0m\u001b[0mnewsletter_df\u001b[0m\u001b[1;33m[\u001b[0m\u001b[1;34m'category_title'\u001b[0m\u001b[1;33m]\u001b[0m\u001b[1;33m.\u001b[0m\u001b[0mstr\u001b[0m\u001b[1;33m.\u001b[0m\u001b[0mcontains\u001b[0m\u001b[1;33m(\u001b[0m\u001b[1;34m'Jobs'\u001b[0m\u001b[1;33m)\u001b[0m\u001b[1;33m,\u001b[0m \u001b[1;33m[\u001b[0m\u001b[1;34m'category_title'\u001b[0m\u001b[1;33m]\u001b[0m\u001b[1;33m]\u001b[0m \u001b[1;33m=\u001b[0m \u001b[1;34m'Jobs'\u001b[0m\u001b[1;33m\u001b[0m\u001b[0m\n\u001b[0m",
      "\u001b[1;32m~\\Anaconda3\\envs\\kaggle\\lib\\site-packages\\pandas\\core\\indexing.py\u001b[0m in \u001b[0;36m__setitem__\u001b[1;34m(self, key, value)\u001b[0m\n\u001b[0;32m    186\u001b[0m         \u001b[1;32melse\u001b[0m\u001b[1;33m:\u001b[0m\u001b[1;33m\u001b[0m\u001b[0m\n\u001b[0;32m    187\u001b[0m             \u001b[0mkey\u001b[0m \u001b[1;33m=\u001b[0m \u001b[0mcom\u001b[0m\u001b[1;33m.\u001b[0m\u001b[0m_apply_if_callable\u001b[0m\u001b[1;33m(\u001b[0m\u001b[0mkey\u001b[0m\u001b[1;33m,\u001b[0m \u001b[0mself\u001b[0m\u001b[1;33m.\u001b[0m\u001b[0mobj\u001b[0m\u001b[1;33m)\u001b[0m\u001b[1;33m\u001b[0m\u001b[0m\n\u001b[1;32m--> 188\u001b[1;33m         \u001b[0mindexer\u001b[0m \u001b[1;33m=\u001b[0m \u001b[0mself\u001b[0m\u001b[1;33m.\u001b[0m\u001b[0m_get_setitem_indexer\u001b[0m\u001b[1;33m(\u001b[0m\u001b[0mkey\u001b[0m\u001b[1;33m)\u001b[0m\u001b[1;33m\u001b[0m\u001b[0m\n\u001b[0m\u001b[0;32m    189\u001b[0m         \u001b[0mself\u001b[0m\u001b[1;33m.\u001b[0m\u001b[0m_setitem_with_indexer\u001b[0m\u001b[1;33m(\u001b[0m\u001b[0mindexer\u001b[0m\u001b[1;33m,\u001b[0m \u001b[0mvalue\u001b[0m\u001b[1;33m)\u001b[0m\u001b[1;33m\u001b[0m\u001b[0m\n\u001b[0;32m    190\u001b[0m \u001b[1;33m\u001b[0m\u001b[0m\n",
      "\u001b[1;32m~\\Anaconda3\\envs\\kaggle\\lib\\site-packages\\pandas\\core\\indexing.py\u001b[0m in \u001b[0;36m_get_setitem_indexer\u001b[1;34m(self, key)\u001b[0m\n\u001b[0;32m    164\u001b[0m         \u001b[1;32mif\u001b[0m \u001b[0misinstance\u001b[0m\u001b[1;33m(\u001b[0m\u001b[0mkey\u001b[0m\u001b[1;33m,\u001b[0m \u001b[0mtuple\u001b[0m\u001b[1;33m)\u001b[0m\u001b[1;33m:\u001b[0m\u001b[1;33m\u001b[0m\u001b[0m\n\u001b[0;32m    165\u001b[0m             \u001b[1;32mtry\u001b[0m\u001b[1;33m:\u001b[0m\u001b[1;33m\u001b[0m\u001b[0m\n\u001b[1;32m--> 166\u001b[1;33m                 \u001b[1;32mreturn\u001b[0m \u001b[0mself\u001b[0m\u001b[1;33m.\u001b[0m\u001b[0m_convert_tuple\u001b[0m\u001b[1;33m(\u001b[0m\u001b[0mkey\u001b[0m\u001b[1;33m,\u001b[0m \u001b[0mis_setter\u001b[0m\u001b[1;33m=\u001b[0m\u001b[1;32mTrue\u001b[0m\u001b[1;33m)\u001b[0m\u001b[1;33m\u001b[0m\u001b[0m\n\u001b[0m\u001b[0;32m    167\u001b[0m             \u001b[1;32mexcept\u001b[0m \u001b[0mIndexingError\u001b[0m\u001b[1;33m:\u001b[0m\u001b[1;33m\u001b[0m\u001b[0m\n\u001b[0;32m    168\u001b[0m                 \u001b[1;32mpass\u001b[0m\u001b[1;33m\u001b[0m\u001b[0m\n",
      "\u001b[1;32m~\\Anaconda3\\envs\\kaggle\\lib\\site-packages\\pandas\\core\\indexing.py\u001b[0m in \u001b[0;36m_convert_tuple\u001b[1;34m(self, key, is_setter)\u001b[0m\n\u001b[0;32m    245\u001b[0m                 \u001b[1;32mif\u001b[0m \u001b[0mi\u001b[0m \u001b[1;33m>=\u001b[0m \u001b[0mself\u001b[0m\u001b[1;33m.\u001b[0m\u001b[0mobj\u001b[0m\u001b[1;33m.\u001b[0m\u001b[0mndim\u001b[0m\u001b[1;33m:\u001b[0m\u001b[1;33m\u001b[0m\u001b[0m\n\u001b[0;32m    246\u001b[0m                     \u001b[1;32mraise\u001b[0m \u001b[0mIndexingError\u001b[0m\u001b[1;33m(\u001b[0m\u001b[1;34m'Too many indexers'\u001b[0m\u001b[1;33m)\u001b[0m\u001b[1;33m\u001b[0m\u001b[0m\n\u001b[1;32m--> 247\u001b[1;33m                 \u001b[0midx\u001b[0m \u001b[1;33m=\u001b[0m \u001b[0mself\u001b[0m\u001b[1;33m.\u001b[0m\u001b[0m_convert_to_indexer\u001b[0m\u001b[1;33m(\u001b[0m\u001b[0mk\u001b[0m\u001b[1;33m,\u001b[0m \u001b[0maxis\u001b[0m\u001b[1;33m=\u001b[0m\u001b[0mi\u001b[0m\u001b[1;33m,\u001b[0m \u001b[0mis_setter\u001b[0m\u001b[1;33m=\u001b[0m\u001b[0mis_setter\u001b[0m\u001b[1;33m)\u001b[0m\u001b[1;33m\u001b[0m\u001b[0m\n\u001b[0m\u001b[0;32m    248\u001b[0m                 \u001b[0mkeyidx\u001b[0m\u001b[1;33m.\u001b[0m\u001b[0mappend\u001b[0m\u001b[1;33m(\u001b[0m\u001b[0midx\u001b[0m\u001b[1;33m)\u001b[0m\u001b[1;33m\u001b[0m\u001b[0m\n\u001b[0;32m    249\u001b[0m         \u001b[1;32mreturn\u001b[0m \u001b[0mtuple\u001b[0m\u001b[1;33m(\u001b[0m\u001b[0mkeyidx\u001b[0m\u001b[1;33m)\u001b[0m\u001b[1;33m\u001b[0m\u001b[0m\n",
      "\u001b[1;32m~\\Anaconda3\\envs\\kaggle\\lib\\site-packages\\pandas\\core\\indexing.py\u001b[0m in \u001b[0;36m_convert_to_indexer\u001b[1;34m(self, obj, axis, is_setter)\u001b[0m\n\u001b[0;32m   1297\u001b[0m         \u001b[1;32melif\u001b[0m \u001b[0mis_list_like_indexer\u001b[0m\u001b[1;33m(\u001b[0m\u001b[0mobj\u001b[0m\u001b[1;33m)\u001b[0m\u001b[1;33m:\u001b[0m\u001b[1;33m\u001b[0m\u001b[0m\n\u001b[0;32m   1298\u001b[0m \u001b[1;33m\u001b[0m\u001b[0m\n\u001b[1;32m-> 1299\u001b[1;33m             \u001b[1;32mif\u001b[0m \u001b[0mcom\u001b[0m\u001b[1;33m.\u001b[0m\u001b[0mis_bool_indexer\u001b[0m\u001b[1;33m(\u001b[0m\u001b[0mobj\u001b[0m\u001b[1;33m)\u001b[0m\u001b[1;33m:\u001b[0m\u001b[1;33m\u001b[0m\u001b[0m\n\u001b[0m\u001b[0;32m   1300\u001b[0m                 \u001b[0mobj\u001b[0m \u001b[1;33m=\u001b[0m \u001b[0mcheck_bool_indexer\u001b[0m\u001b[1;33m(\u001b[0m\u001b[0mlabels\u001b[0m\u001b[1;33m,\u001b[0m \u001b[0mobj\u001b[0m\u001b[1;33m)\u001b[0m\u001b[1;33m\u001b[0m\u001b[0m\n\u001b[0;32m   1301\u001b[0m                 \u001b[0minds\u001b[0m\u001b[1;33m,\u001b[0m \u001b[1;33m=\u001b[0m \u001b[0mobj\u001b[0m\u001b[1;33m.\u001b[0m\u001b[0mnonzero\u001b[0m\u001b[1;33m(\u001b[0m\u001b[1;33m)\u001b[0m\u001b[1;33m\u001b[0m\u001b[0m\n",
      "\u001b[1;32m~\\Anaconda3\\envs\\kaggle\\lib\\site-packages\\pandas\\core\\common.py\u001b[0m in \u001b[0;36mis_bool_indexer\u001b[1;34m(key)\u001b[0m\n\u001b[0;32m    105\u001b[0m             \u001b[1;32mif\u001b[0m \u001b[1;32mnot\u001b[0m \u001b[0mlib\u001b[0m\u001b[1;33m.\u001b[0m\u001b[0mis_bool_array\u001b[0m\u001b[1;33m(\u001b[0m\u001b[0mkey\u001b[0m\u001b[1;33m)\u001b[0m\u001b[1;33m:\u001b[0m\u001b[1;33m\u001b[0m\u001b[0m\n\u001b[0;32m    106\u001b[0m                 \u001b[1;32mif\u001b[0m \u001b[0misna\u001b[0m\u001b[1;33m(\u001b[0m\u001b[0mkey\u001b[0m\u001b[1;33m)\u001b[0m\u001b[1;33m.\u001b[0m\u001b[0many\u001b[0m\u001b[1;33m(\u001b[0m\u001b[1;33m)\u001b[0m\u001b[1;33m:\u001b[0m\u001b[1;33m\u001b[0m\u001b[0m\n\u001b[1;32m--> 107\u001b[1;33m                     raise ValueError('cannot index with vector containing '\n\u001b[0m\u001b[0;32m    108\u001b[0m                                      'NA / NaN values')\n\u001b[0;32m    109\u001b[0m                 \u001b[1;32mreturn\u001b[0m \u001b[1;32mFalse\u001b[0m\u001b[1;33m\u001b[0m\u001b[0m\n",
      "\u001b[1;31mValueError\u001b[0m: cannot index with vector containing NA / NaN values"
     ]
    }
   ],
   "source": [
    "newsletter_df['category_title'] = newsletter_df['category_title'].str.strip()\n",
    "newsletter_df.loc[nan_cats_inds[1:], ['category_title']] = 'Jobs'\n",
    "newsletter_df = newsletter_df[~(newsletter_df['category_title'].str.len()>200)].reset_index(drop=True)\n",
    "newsletter_df.loc[newsletter_df['category_title'].str.contains('Jobs'), ['category_title']] = 'Jobs'\n"
   ]
  },
  {
   "cell_type": "code",
   "execution_count": 129,
   "metadata": {},
   "outputs": [],
   "source": [
    "newsletter_df.loc[newsletter_df['category_title'].str.contains('A Message from this'), 'category_title'] = 'Sponsored link'"
   ]
  },
  {
   "cell_type": "code",
   "execution_count": 130,
   "metadata": {},
   "outputs": [
    {
     "data": {
      "text/plain": [
       "array(['In the News', 'Tools and Techniques', 'Resources', 'Data Viz',\n",
       "       'About', 'Sponsored Link', 'Archive Pick', 'Inspiration', 'Career',\n",
       "       'Upcoming Conferences', 'Byte Sized', 'Projects', 'Applications',\n",
       "       'Startups', 'Podcasts', 'Challenges', 'Deep Learning',\n",
       "       'In Case You Missed It', 'Profiles', 'Datasets', 'Blogs', 'Insight',\n",
       "       'Jobs  Careers', 'Featured This Week',\n",
       "       'Data Science Articles & Videos', 'Jobs', 'Editor Picks',\n",
       "       'Training', 'Training & Resources', 'Books', 'Sponsored link',\n",
       "       'Bonus Item!', \"O'Reilly Media\", 'Continuum Analytics', 'HipChat'], dtype=object)"
      ]
     },
     "execution_count": 130,
     "metadata": {},
     "output_type": "execute_result"
    }
   ],
   "source": [
    "newsletter_df['category_title'].unique()"
   ]
  },
  {
   "cell_type": "code",
   "execution_count": null,
   "metadata": {},
   "outputs": [],
   "source": []
  }
 ],
 "metadata": {
  "kernelspec": {
   "display_name": "Python 3",
   "language": "python",
   "name": "python3"
  },
  "language_info": {
   "codemirror_mode": {
    "name": "ipython",
    "version": 3
   },
   "file_extension": ".py",
   "mimetype": "text/x-python",
   "name": "python",
   "nbconvert_exporter": "python",
   "pygments_lexer": "ipython3",
   "version": "3.6.4"
  }
 },
 "nbformat": 4,
 "nbformat_minor": 2
}
