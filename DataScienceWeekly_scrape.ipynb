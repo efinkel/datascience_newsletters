{
 "cells": [
  {
   "cell_type": "code",
   "execution_count": 4,
   "metadata": {},
   "outputs": [],
   "source": [
    "from urllib.request import urlopen\n",
    "import requests\n",
    "from bs4 import BeautifulSoup\n",
    "import pandas as pd\n",
    "import re\n",
    "from datetime import datetime\n",
    "import time\n",
    "import random\n",
    "from tqdm import tnrange, tqdm_notebook\n",
    "import numpy as np"
   ]
  },
  {
   "cell_type": "code",
   "execution_count": 6,
   "metadata": {},
   "outputs": [],
   "source": [
    "session = requests.session()\n",
    "headers = {'User-Agent': 'Chrome66.0'}\n",
    "url = 'https://www.datascienceweekly.org/newsletters/data-science-weekly-newsletter-issue-261'\n",
    "req = session.get(url, headers=headers)\n",
    "bs = BeautifulSoup(req.text, 'lxml')"
   ]
  },
  {
   "cell_type": "code",
   "execution_count": 65,
   "metadata": {},
   "outputs": [],
   "source": [
    "child = bs.find_all('h2', {'style': re.compile(\"(line-height).\")})[2].next_siblings"
   ]
  },
  {
   "cell_type": "code",
   "execution_count": 45,
   "metadata": {},
   "outputs": [],
   "source": [
    "session = requests.session()\n",
    "headers = {'User-Agent': 'Chrome66.0'}\n",
    "url = 'https://dataelixir.com/issue/?num=1'\n",
    "req = session.get(url, headers=headers)\n",
    "bs2 = BeautifulSoup(req.text, 'lxml')"
   ]
  },
  {
   "cell_type": "code",
   "execution_count": 96,
   "metadata": {},
   "outputs": [],
   "source": [
    "sibs = bs2.find_all('h2', {'class':'category__title'})[0].next_siblings"
   ]
  },
  {
   "cell_type": "code",
   "execution_count": 89,
   "metadata": {},
   "outputs": [
    {
     "data": {
      "text/plain": [
       "<list_iterator at 0x2b369206470>"
      ]
     },
     "execution_count": 89,
     "metadata": {},
     "output_type": "execute_result"
    }
   ],
   "source": [
    "[sib while sib ]"
   ]
  },
  {
   "cell_type": "code",
   "execution_count": 101,
   "metadata": {},
   "outputs": [],
   "source": [
    "s = next(sibs)"
   ]
  },
  {
   "cell_type": "code",
   "execution_count": 102,
   "metadata": {},
   "outputs": [
    {
     "data": {
      "text/plain": [
       "<div class=\"item item--issue\">\n",
       "<h3 class=\"item__title\">Welcome!</h3>\n",
       "<p>\n",
       "<span class=\"item__summary\"><p>Welcome to the first edition of Data Elixir, a weekly newsletter for data enthusiasts and developers. This newsletter curates the best data-related finds from around the web. It includes links to worthwhile articles, new tools, data visualizations, data sources, profiles, business ideas, and book reviews. If you find this newsletter worthwhile, please forward it to friends and colleagues. And if you don't find it worthwhile, please send any suggestions to <a href=\"/cdn-cgi/l/email-protection#67141200000214130e0809142703061306020b0e1f0e154904080a\"><span class=\"__cf_email__\" data-cfemail=\"4a393f2d2d2f393e232524390a2e2b3e2b2f262332233864292527\">[email protected]</span></a></p>\n",
       "<p>Thanks for subscribing!</p>\n",
       "<p>-Lon Riesberg <a href=\"//cur.at/il3Ua4i\">@lonriesberg</a></p></span>\n",
       "<span class=\"item__footer\"><a href=\"\"></a></span>\n",
       "</p></div>"
      ]
     },
     "execution_count": 102,
     "metadata": {},
     "output_type": "execute_result"
    }
   ],
   "source": [
    "s"
   ]
  },
  {
   "cell_type": "code",
   "execution_count": null,
   "metadata": {},
   "outputs": [],
   "source": []
  }
 ],
 "metadata": {
  "kernelspec": {
   "display_name": "Python 3",
   "language": "python",
   "name": "python3"
  },
  "language_info": {
   "codemirror_mode": {
    "name": "ipython",
    "version": 3
   },
   "file_extension": ".py",
   "mimetype": "text/x-python",
   "name": "python",
   "nbconvert_exporter": "python",
   "pygments_lexer": "ipython3",
   "version": "3.6.4"
  }
 },
 "nbformat": 4,
 "nbformat_minor": 2
}
